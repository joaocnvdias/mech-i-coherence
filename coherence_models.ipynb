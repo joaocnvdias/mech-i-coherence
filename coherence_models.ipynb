{
 "cells": [
  {
   "cell_type": "code",
   "execution_count": 1,
   "metadata": {},
   "outputs": [
    {
     "name": "stderr",
     "output_type": "stream",
     "text": [
      "/Users/joaodias/miniforge3/envs/ccu/lib/python3.9/site-packages/tqdm/auto.py:21: TqdmWarning: IProgress not found. Please update jupyter and ipywidgets. See https://ipywidgets.readthedocs.io/en/stable/user_install.html\n",
      "  from .autonotebook import tqdm as notebook_tqdm\n"
     ]
    }
   ],
   "source": [
    "from datasets import load_dataset\n",
    "import openai\n",
    "from openai import OpenAI\n",
    "import torch\n",
    "from torch.utils.data import DataLoader\n",
    "import numpy as np\n",
    "import matplotlib.pyplot as plt\n",
    "import random\n",
    "import os "
   ]
  },
  {
   "cell_type": "code",
   "execution_count": 7,
   "metadata": {},
   "outputs": [],
   "source": [
    "openai.api_key = os.getenv(\"LAB_OPENAI_API_KEY\")"
   ]
  },
  {
   "cell_type": "code",
   "execution_count": 2,
   "metadata": {},
   "outputs": [],
   "source": [
    "ds = load_dataset(\"roneneldan/TinyStories\")\n",
    "tiny_train = ds['train']\n",
    "tiny_val = ds['validation']"
   ]
  },
  {
   "cell_type": "markdown",
   "metadata": {},
   "source": [
    "## Testing coherence models"
   ]
  },
  {
   "cell_type": "markdown",
   "metadata": {},
   "source": [
    "Rouge-L\n"
   ]
  },
  {
   "cell_type": "code",
   "execution_count": 4,
   "metadata": {},
   "outputs": [],
   "source": [
    "from rouge_score import rouge_scorer\n",
    "\n",
    "scorer = rouge_scorer.RougeScorer(['rougeL'], use_stemmer=True)\n",
    "scores = scorer.score('The quick brown fox jumps over the lazy dog',\n",
    "                      'The quick brown dog jumps on the log.')"
   ]
  },
  {
   "cell_type": "code",
   "execution_count": 5,
   "metadata": {},
   "outputs": [
    {
     "data": {
      "text/plain": [
       "Score(precision=0.625, recall=0.5555555555555556, fmeasure=0.5882352941176471)"
      ]
     },
     "execution_count": 5,
     "metadata": {},
     "output_type": "execute_result"
    }
   ],
   "source": [
    "scores['rougeL']"
   ]
  },
  {
   "cell_type": "markdown",
   "metadata": {},
   "source": [
    "J-coherence"
   ]
  },
  {
   "cell_type": "code",
   "execution_count": 79,
   "metadata": {},
   "outputs": [
    {
     "name": "stderr",
     "output_type": "stream",
     "text": [
      "2025-03-24 16:37:55.597449: I tensorflow/core/platform/cpu_feature_guard.cc:210] This TensorFlow binary is optimized to use available CPU instructions in performance-critical operations.\n",
      "To enable the following instructions: AVX2 FMA, in other operations, rebuild TensorFlow with the appropriate compiler flags.\n",
      "/Users/joaodias/miniforge3/envs/ccu/lib/python3.9/site-packages/transformers/utils/hub.py:527: FutureWarning: Using `from_pretrained` with the url of a file (here https://storage.googleapis.com/sgnlp-models/models/coherence_momentum/config.json) is deprecated and won't be possible anymore in v5 of Transformers. You should host your file on the Hub (hf.co) instead and use the repository ID. Note that this is not compatible with the caching system (your file will be downloaded at each execution) or multiple processes (each process will download the file in a different temporary file).\n",
      "  warnings.warn(\n",
      "/Users/joaodias/miniforge3/envs/ccu/lib/python3.9/site-packages/transformers/utils/hub.py:527: FutureWarning: Using `from_pretrained` with the url of a file (here https://storage.googleapis.com/sgnlp-models/models/coherence_momentum/pytorch_model.bin) is deprecated and won't be possible anymore in v5 of Transformers. You should host your file on the Hub (hf.co) instead and use the repository ID. Note that this is not compatible with the caching system (your file will be downloaded at each execution) or multiple processes (each process will download the file in a different temporary file).\n",
      "  warnings.warn(\n"
     ]
    }
   ],
   "source": [
    "from sgnlp.models.coherence_momentum import CoherenceMomentumModel, CoherenceMomentumConfig, \\\n",
    "    CoherenceMomentumPreprocessor\n",
    "\n",
    "# Load Model\n",
    "config = CoherenceMomentumConfig.from_pretrained(\n",
    "    \"https://storage.googleapis.com/sgnlp-models/models/coherence_momentum/config.json\"\n",
    ")\n",
    "model = CoherenceMomentumModel.from_pretrained(\n",
    "    \"https://storage.googleapis.com/sgnlp-models/models/coherence_momentum/pytorch_model.bin\",\n",
    "    config=config\n",
    ")\n",
    "\n",
    "preprocessor = CoherenceMomentumPreprocessor(config.model_size, config.max_len)"
   ]
  },
  {
   "cell_type": "code",
   "execution_count": null,
   "metadata": {},
   "outputs": [
    {
     "name": "stdout",
     "output_type": "stream",
     "text": [
      "20.137290954589844 18.757055282592773\n"
     ]
    }
   ],
   "source": [
    "# Example text inputs\n",
    "text1 = tiny_train['text'][0]\n",
    "text2 = tiny_train['text'][1]\n",
    "\n",
    "text1_tensor = preprocessor([text1])\n",
    "text2_tensor = preprocessor([text2])\n",
    "\n",
    "text1_score = model.get_main_score(text1_tensor[\"tokenized_texts\"]).item()\n",
    "text2_score = model.get_main_score(text2_tensor[\"tokenized_texts\"]).item()\n",
    "\n",
    "print(text1_score, text2_score)"
   ]
  },
  {
   "cell_type": "markdown",
   "metadata": {},
   "source": [
    "CoLA"
   ]
  },
  {
   "cell_type": "code",
   "execution_count": 92,
   "metadata": {},
   "outputs": [],
   "source": [
    "from transformers import AutoTokenizer, AutoModelForSequenceClassification\n",
    "\n",
    "tokenizer = AutoTokenizer.from_pretrained(\"cointegrated/roberta-large-cola-krishna2020\")\n",
    "model = AutoModelForSequenceClassification.from_pretrained(\"cointegrated/roberta-large-cola-krishna2020\")"
   ]
  },
  {
   "cell_type": "code",
   "execution_count": null,
   "metadata": {},
   "outputs": [],
   "source": [
    "text = tiny_train['text'][0]\n",
    "\n",
    "#tokenize input\n",
    "inputs = tokenizer(text, return_tensors=\"pt\")"
   ]
  },
  {
   "cell_type": "code",
   "execution_count": null,
   "metadata": {},
   "outputs": [
    {
     "data": {
      "text/plain": [
       "tensor([[0.9546, 0.0454]])"
      ]
     },
     "execution_count": 30,
     "metadata": {},
     "output_type": "execute_result"
    }
   ],
   "source": [
    "with torch.no_grad():\n",
    "    outputs = model(**inputs)\n",
    "\n",
    "logits = outputs.logits\n",
    "\n",
    "torch.nn.functional.softmax(logits, dim=-1)"
   ]
  },
  {
   "cell_type": "markdown",
   "metadata": {},
   "source": [
    "## Creation of auto-rater"
   ]
  },
  {
   "cell_type": "markdown",
   "metadata": {},
   "source": [
    "Auto-rating"
   ]
  },
  {
   "cell_type": "code",
   "execution_count": 230,
   "metadata": {},
   "outputs": [],
   "source": [
    "batch_size = 128 \n",
    "\n",
    "train_loader = DataLoader(tiny_train['text'][:10000], batch_size=batch_size, shuffle=True)\n",
    "#val_loader = DataLoader(tiny_val['text'], batch_size=batch_size, shuffle=False)"
   ]
  },
  {
   "cell_type": "code",
   "execution_count": 15,
   "metadata": {},
   "outputs": [],
   "source": [
    "def get_coherence_score(extract):\n",
    "    client = OpenAI()\n",
    "    \n",
    "    prompt = (\"Below is a text extract. Your task is to analyze the extract and assign a coherence score between 0 and 5 inclusive, where:\\n\\n\"\n",
    "              \"0: The text is completely incoherent and lacks any logical connection.\\n\"\n",
    "              \"1: The text has some minor connections, but overall it is disjointed and hard to follow.\\n\"\n",
    "              \"2: The text has some coherence, but it is still difficult to understand due to unclear relationships between ideas.\\n\"\n",
    "              \"3: The text is moderately coherent, with some clear connections between ideas, but may lack depth or clarity.\\n\"\n",
    "              \"4: The text is highly coherent, with clear and logical connections between ideas, making it easy to follow.\\n\"\n",
    "              \"5: The text is extremely coherent, with a clear and concise structure, making it effortless to understand.\\n\\n\"\n",
    "              \"You will provide a score ONLY. Do NOT also provide an explanation.\\n\"\n",
    "              f\"The extract: {extract}\\n\"\n",
    "              \"After examining the extract, the coherence score between 0 and 5 inclusive is:\")\n",
    "    \n",
    "    response = client.chat.completions.create(\n",
    "        model=\"gpt-4o-mini\",  #using gpt-4o-mini to optimize cost\n",
    "        messages=[\n",
    "            {\"role\": \"system\", \"content\": \"Analyze the coherence of the given text.\"},\n",
    "            {\"role\": \"user\", \"content\": prompt}\n",
    "        ]\n",
    "    )\n",
    "    \n",
    "    return response.choices[0].message.content.strip()\n",
    "\n",
    "def batch_coherence(batch):\n",
    "  batch_scores = []\n",
    "  for text in batch:\n",
    "      score = get_coherence_score(text)\n",
    "      batch_scores.append(score)\n",
    "    \n",
    "  return batch_scores"
   ]
  },
  {
   "cell_type": "code",
   "execution_count": null,
   "metadata": {},
   "outputs": [],
   "source": [
    "batch_scores = []\n",
    "for batch in train_loader:\n",
    "    scores = batch_coherence(batch)\n",
    "    batch_scores.append(scores)"
   ]
  },
  {
   "cell_type": "code",
   "execution_count": 40,
   "metadata": {},
   "outputs": [],
   "source": [
    "all_scores = [int(score) for sublist in batch_scores for score in sublist] #unpack list scores"
   ]
  },
  {
   "cell_type": "code",
   "execution_count": 42,
   "metadata": {},
   "outputs": [
    {
     "name": "stdout",
     "output_type": "stream",
     "text": [
      "Are there any 0s? - False\n",
      "Are there any 1s? - False\n"
     ]
    }
   ],
   "source": [
    "are_ther_zero = any(score == 0 for score in all_scores)\n",
    "are_there_one = any(score == 1 for score in all_scores)\n",
    "print(f'Are there any 0s? - {are_ther_zero}')\n",
    "print(f'Are there any 1s? - {are_there_one}')"
   ]
  },
  {
   "cell_type": "code",
   "execution_count": 53,
   "metadata": {},
   "outputs": [
    {
     "data": {
      "image/png": "[encoded data removed]",
      "text/plain": [
       "<Figure size 1000x600 with 1 Axes>"
      ]
     },
     "metadata": {},
     "output_type": "display_data"
    }
   ],
   "source": [
    "plt.figure(figsize=(10, 6))\n",
    "plt.hist(all_scores, bins='auto', color='skyblue', edgecolor='black', alpha=0.7)\n",
    "\n",
    "plt.title('Histogram of Coherence Scores', fontsize=14)\n",
    "plt.xlabel('Value', fontsize=12)\n",
    "plt.xticks(range(2, 6)) \n",
    "plt.ylabel('Frequency', fontsize=12)\n",
    "\n",
    "plt.grid(axis='y', alpha=0.75)\n",
    "\n",
    "plt.tight_layout()\n",
    "plt.show()"
   ]
  },
  {
   "cell_type": "markdown",
   "metadata": {},
   "source": [
    "save it for later"
   ]
  },
  {
   "cell_type": "code",
   "execution_count": 72,
   "metadata": {},
   "outputs": [],
   "source": [
    "save_array = np.array(all_scores)\n",
    "\n",
    "np.save(\"checkpoints/10000ratings.npy\", save_array) "
   ]
  },
  {
   "cell_type": "markdown",
   "metadata": {},
   "source": [
    "### Auto-rater shenanigans"
   ]
  },
  {
   "cell_type": "markdown",
   "metadata": {},
   "source": [
    "Check out incoherent stories"
   ]
  },
  {
   "cell_type": "code",
   "execution_count": 65,
   "metadata": {},
   "outputs": [
    {
     "name": "stdout",
     "output_type": "stream",
     "text": [
      "\n",
      " New story:\n",
      "Once upon a time there was an orange needle called Frank. He had been in the same spot for years and he was getting bored. He wanted to explore, but he didn't know how to.\n",
      "\n",
      "Then one day, a small 3 year old child saw Frank. The child said \"Hello Frank! I'm going to help you explore the world.\" Frank was so excited!\n",
      "\n",
      "The child said, \"I think we should reverse!\" Frank looked confused, but the child explained that it meant going backwards, the opposite of forwards.\n",
      "\n",
      "So, the child and Frank started reversing. They went up and down, side to side and around in circles. Frank was enjoying his adventure!\n",
      "\n",
      "After an hour of reversing, the child and Frank stopped. The child said, \"Wow, that was a lot of fun! You now know that you can explore by reversing.\"\n",
      "\n",
      "Frank thanked the child for his help and then said goodbye. As the child walked away, Frank knew that he would never forget this adventure.\n",
      "\n",
      " New story:\n",
      "Ted was a lively little boy. He was always ready for adventure. One day Ted found a shiny red helmet and he couldn't resist trying it on. He wore it everywhere and loved it.\n",
      "\n",
      "One day, Ted and his friends decided to go biking. Ted proudly put his red helmet on, and prepared to go. Suddenly, his helmet began to tear. Ted's friends laughed.\n",
      "\n",
      "\"Oh Ted, what shall you do now?\" one of them asked.\n",
      "\n",
      "Ted smiled and said: \"I don't need a helmet to go biking. I'm too lively for danger!\"\n",
      "\n",
      "Everyone agreed and went off on their bicycles, happily racing each other. Ted was the happiest of all.\n",
      "\n",
      " New story:\n",
      "One day, a little duck named Tim went on an adventurous walk. He loved to splash in the water and play with his friends. The sun was shining and the sky was blue. Tim was very happy.\n",
      "\n",
      "Tim splashed in a big puddle and laughed. His friends came to play too. They all splashed and had fun. After a while, they were tired and wanted to take a nap.\n",
      "\n",
      "Tim and his friends found a nice, soft spot under a tree. They took a cozy nap together. When they woke up, they felt refreshed and ready for more splashing fun.\n",
      "\n",
      " New story:\n",
      "Peter was a smart bunny who liked to go on adventures. One evening, he decided to explore in the garden. He marked the grass with pieces of string so he could find his way back. Peter hopped around, marking trees and flowers until he was so tired. He sat down under a tree and admired his work. The sun had already started to set in the sky. \n",
      "\n",
      "By now, Peter had marked the entire garden. He was so proud of himself, he hopped with joy around the garden. Suddenly, he heard the sound of his mother. It was almost nighttime and it was time to go back in. Peter gathered up the strings and hurried back to the house. \n",
      "\n",
      "Inside, Peter's mother had dinner ready. Peter was so excited to show off his markings from his adventure. His mother was so impressed by his smart idea that she gave him a hug. Peter wiped his paws and said goodbye to his garden for the evening. He ran inside for dinner, happy to be done exploring for the day.\n",
      "\n",
      " New story:\n",
      "Once upon a time there was a little boy named Timmy. He loved to go for walks. One day, Timmy was walking to the top of a hill. On the hill he saw a broken bike. It looked like it had been pushed over.\n",
      "\n",
      "\"Wow!\" said Timmy. \"I bet I could ride this!\" He started to push the bike and it moved fast. \n",
      "\n",
      "Timmy went faster and faster. He heard his mom calling him from the bottom of the hill. But he didn't want to stop. Suddenly, he hit a bump. The broken bike broke even more. Timmy went flying off.\n",
      "\n",
      "\"Oh no!\" said his mom. She ran to him. Timmy was crying. He had broken his arm.\n",
      "\n",
      "The moral of the story is to not go too fast. Timmy was lucky that he only hurt his arm and not something worse. Always listen to your mom so you don't get hurt.\n",
      "\n",
      " New story:\n",
      "Once upon a time, there was a little girl named Lily. She loved to play hide and seek with her friends. One day, she found a big sheet in her house. It was clear and shiny. Lily decided to use the sheet to play hide and seek with her friends.\n",
      "\n",
      "She hid under the sheet and waited for her friends to find her. They looked everywhere but they couldn't find her. Lily giggled as she heard her friends calling her name. She was happy that the clear sheet helped her hide so well.\n",
      "\n",
      "Finally, Lily's friends found her under the sheet. They all laughed and played together. Lily was happy that she found the sheet and had so much fun playing with her friends.\n",
      "\n",
      " New story:\n",
      "Once upon a time, there was a kid named Joe. Joe was three years old and was very polite. One day, he wanted to open the cup he found on the ground. When he opened it, he saw something shiny inside. \n",
      "\n",
      "He took it out and asked his mummy, \"What is this?\"\n",
      "\n",
      "Mummy looked at it and said, \"It is a coin, Joe. It looks like a penny. You can keep it and show it to your friends.\"\n",
      "\n",
      "Joe was so excited and thought, \"This is great! Now I can buy some ice cream!\" \n",
      "\n",
      "He quickly put the coin inside the cup, closed it and ran off to get his ice cream.\n",
      "\n",
      "The End.\n",
      "\n",
      " New story:\n",
      "Once upon a time, there was a girl named Lily. She loved to play outside in the park with her friends. One day, Lily's mom bought her a new vest to wear. It was pink and had flowers on it. Lily loved it and wanted to wear it every day.\n",
      "\n",
      "But one day, Lily's vest got smelly because she wore it for too long without washing it. Her mom taught her that it's important to wash clothes so they don't get smelly. From then on, Lily made sure to wash her vest and all her clothes regularly. And she continued to wear her pretty pink vest to the park with her friends. The end.\n",
      "\n",
      " New story:\n",
      "Once upon a time there lived a sweet little girl called Elle. She was three years old and loved to play. One day Elle saw in the sky a bright, shiny laser. She wanted to touch it so she clapped her hands loudly.\n",
      "\n",
      "The laser heard her so it came nearer and nearer. Elle was so excited and clapped harder and harder until the laser was within reach. But the laser kept going around and around, just a little out of Elle's reach.\n",
      "\n",
      "Elle kept trying to catch the laser, clapping and shouting in excitement. She was very persistent and didn't give up until the laser finally let her catch it. Elle was delighted and proudly carried the laser home. Afterwards, Elle spent the rest of the day playing with her new laser toy.\n",
      "\n",
      " New story:\n",
      "Once there was a foolish rabbit who was always on the lookout for surprises. One day, he was hopping around in the grass when he spotted something shiny. He hopped closer and found that a big surprise was waiting for him- a big piece of meat! He couldn't believe it.\n",
      "\n",
      "The rabbit had never seen meat so big before and he was so excited. He grabbed the meat and quickly started to munch it all up. He was so happy and couldn't believe his luck. \n",
      "\n",
      "But then the rabbit heard a loud noise. He looked up and saw a farmer coming towards him. The farmer was not happy about the rabbit eating his meat and he started to shout. The rabbit was so scared he quickly hopped away and never came back. \n",
      "\n",
      "The rabbit had been very foolish to trust such a surprise, but it taught him a valuable lesson- never trust anything that looks too good to be true!\n",
      "\n",
      " New story:\n",
      "Once upon a time, there was a bird. He was a very naughty bird who played in the dirt. One day, he saw a twig in the dirt. He grabbed it and wanted to display it. He wanted everyone to see how shiny and special it was.\n",
      "\n",
      "The twig was very dirty and covered in mud. The bird was sad and tried to clean the twig and make it look nice. He used water and special cleaning tools to make it shiny again.\n",
      "\n",
      "Finally, the twig looked clean and sparkly. The bird was so excited he spread his wings and flew around. He showed the twig to all of the birds and animals in the forest. Everyone admired the twig and said it was very pretty.\n",
      "\n",
      "The bird was very happy now. He flew home with the twig and placed it in his nest. It was safe and sound now, and he was very proud of his work. From that day on, all the animals in the forest admired his shiny twig.\n",
      "\n",
      " New story:\n",
      "Once upon a time, there was a little girl called Lucy. She had a good friend called John. Every day they went outside to play.\n",
      "\n",
      "One day, they looked out of their window. They saw something very special.\n",
      "\n",
      "\"What is it?\" asked Lucy.\n",
      "\n",
      "John said, \"It's a busy bee. Watch it buzz around the flowers. It's so busy.\"\n",
      "\n",
      "Lucy was amazed. She admired the bee flying so quickly. The bee was the busiest she ever saw.\n",
      "\n",
      "John said, \"It's a good friend of ours.\"\n",
      "\n",
      "Then Lucy smiled and said, \"Yes, a friend who never stops working!\"\n",
      "\n",
      " New story:\n",
      "Once there was a little boy called Jack. He was three years old and loved to be outside in the garden. One day he saw a hose and asked his mum what it was for. \n",
      "\n",
      "Mum said, \"It's a hose, Jack. It can pull water from the tap to help water the plants.\" \n",
      "\n",
      "Jack brightened up and said, \"I want to try it!\" \n",
      "\n",
      "Mum smiled, \"Okay, here you go. Just make sure there is water available first.\"\n",
      "\n",
      "Jack went over to the tap and pulled the hose until the water started flowing. He was so excited to see how it was working, his little face glowed with joy. \n",
      "\n",
      "He laughed as he moved the hose around the garden, carefully watering each plant. He was happy to help and enjoyed every moment he spent with the hose.\n",
      "\n",
      " New story:\n",
      "Once there was a lonely boy. He didn't have any friends and it made him feel sad.\n",
      "\n",
      "Every day he would go to the post office and he would look at the pretty stamps. He loved them very much.\n",
      "\n",
      "One day, he asked the post office clerk if he could please have one of the stamps that he liked. The clerk smiled and said yes. He gave him the stamp and the boy was so happy!\n",
      "\n",
      "He thanked the clerk and ran out of the post office with his stamp. He kept it in his pocket, and from then on it was his very best friend. He would take it out and look and it, and he knew that he was never alone.\n",
      "\n",
      " New story:\n",
      "Once upon a time, there was a boy named Timmy. Timmy loved to cook on his stove. One day, his mom asked him if he wanted to enter a cooking competition. Timmy was so excited! \n",
      "\n",
      "He went to the competition with his mom and saw all the other kids cooking. They were all very good and Timmy felt a little nervous. But he remembered that his mom always said, \"It's not about winning, it's about having fun.\" \n",
      "\n",
      "Timmy cooked his favorite dish on the stove and when it was time for the judges to taste it, he felt very proud. The judges loved his dish and gave him a big trophy! Timmy was so happy and couldn't stop smiling. He went home and told his dad all about his exciting day.\n",
      "\n",
      " New story:\n",
      "Lily and Max are playing with their gear toys. They have cars, trucks, trains and planes that can move with gears. Lily likes the pink car and Max likes the blue truck. They are having fun making them go fast and slow.\n",
      "\n",
      "\"Look, Lily, my truck can do a jump!\" Max says. He pushes his truck hard and it flies over a ramp. Lily claps and cheers.\n",
      "\n",
      "\"Wow, Max, that is cool! Can I try?\" Lily asks. She wants to do a jump too.\n",
      "\n",
      "\"Sure, Lily, you can try. But you have to give me your car first. That is fair,\" Max says. He holds out his hand for the car.\n",
      "\n",
      "Lily thinks for a moment. She likes her car very much. But she also wants to be fair. She gives Max her car and takes his truck. She puts the truck on the ramp and pushes it. But the truck is too heavy and it falls off the ramp. Lily feels sad.\n",
      "\n",
      "\"Sorry, Lily, the truck is hard to do a jump. Maybe you can try the plane. It is lighter and faster,\" Max says. He sees that Lily is sad and he wants to help. He gives her the plane and takes the car.\n",
      "\n",
      "Lily smiles and thanks Max. She puts the plane on the ramp and pushes it. The plane flies over the ramp and lands on the other side. Lily feels happy.\n",
      "\n",
      "\"Yay, Lily, you did it! That was awesome!\" Max says. He claps and cheers.\n",
      "\n",
      "\"Thank you, Max, you are a good friend. You are fair and kind,\" Lily says. She gives Max a hug and they share their gear toys. They play together until it is time to go home.\n",
      "\n",
      " New story:\n",
      "Lila and Ben are twins. They like to play in the garden. They have a big box of toys. They share the toys, but sometimes they fight.\n",
      "\n",
      "One day, Lila finds a shiny ball in the box. She likes the ball. She says, \"This is my ball. It is fair. I found it first.\"\n",
      "\n",
      "Ben hears her. He wants the ball too. He says, \"No, it is my ball. It is fair. You have many toys. I have few.\"\n",
      "\n",
      "They pull the ball. They yell. They are angry.\n",
      "\n",
      "Mama hears them. She comes to the garden. She sees the ball. She says, \"This is not your ball. This is not a toy. This is a bomb. It is from the war. It is very bad. It can hurt you.\"\n",
      "\n",
      "She tries to take the ball. But it is too late. The ball makes a loud noise. It breaks. It makes fire. It makes smoke. It hurts Mama. It hurts Lila. It hurts Ben.\n",
      "\n",
      "The earth shakes. The birds fly away. The toys burn. The garden is gone.\n",
      "\n",
      "Lila and Ben are sad. They are sorry. They wish they did not fight. They wish they did not find the ball. They wish Mama was here. But she is not. She is gone.\n",
      "\n",
      " New story:\n",
      "Once upon a time, there lived a princess called Sue. She was very happy and loved to play in the fairest kingdom. One day, Sue wanted to find another prince to marry. \n",
      "\n",
      "The king and queen said, \"The prince must find the hidden will. Then you can marry him.\" \n",
      "\n",
      "Sue asked, \"Where is the hidden will? Can I go and look for it?\"\n",
      "\n",
      "The king said, \"You must go out into the woods and look for it. It is hidden in a secret place. Be careful, and do not get lost!\" \n",
      "\n",
      "Sue was very brave and ventured into the woods. She looked far and wide, but couldn't find the hidden will. Suddenly, she stopped and heard a noise coming from behind a tree. \n",
      "\n",
      "It was the prince! Sue was very happy and asked, \"Did you find the hidden will?\" \n",
      "\n",
      "The prince smiled, \"Yes I did! Let's go to the castle and get married!\" \n",
      "\n",
      "So Sue and the prince got married and lived happily ever after.\n",
      "\n",
      " New story:\n",
      "Once upon a time, there was a little boy named Timmy. Timmy loved to play outside with his friends. One day, Timmy's parent told him that he couldn't go outside to play because he was feeling sick. Timmy was sad because he wanted to play with his friends.\n",
      "\n",
      "Later that day, Timmy's parent got even sicker and couldn't get out of bed. Timmy wanted to help his parent feel better. He remembered that his friend's parent was a doctor. Timmy decided to go to his friend's house and ask for help.\n",
      "\n",
      "Timmy's friend's parent came to Timmy's house and gave Timmy's parent some medicine. After a few days, Timmy's parent started feeling healthy again. Timmy was happy that he was able to save his parent and make them feel better.\n",
      "\n",
      " New story:\n",
      "Once upon a time, there lived a little mole on a hill far away. He was always by himself, until one day he decided to make a journey. He burrowed as deep as he could until he saw a glimmer of light. \n",
      "\n",
      "The little mole ventured out, and he was amazed! He was in a beautiful garden with bright flowers, gentle breezes and mellow humming from the birds. He felt so free that he wanted to shout.\n",
      "\n",
      "Suddenly, a little girl appeared in the garden. She smiled and said: \n",
      "\"Hello Mr Mole! What are you doing here?\"\n",
      "\n",
      "The little mole explained how he wanted to explore and how he was enjoying the mild temperatures and the sunshine. \n",
      "\n",
      "The little girl was delighted. She said \"I think it's time for you to release into the wild.\" She helped him back into the ground, and said goodbye.\n",
      "\n",
      "From that day on, the little mole visited the garden whenever he wanted, running around and playing. He was happy and free!\n",
      "\n",
      " New story:\n",
      "Lily loved to dance. She wanted to be a dancer when she grew up. She watched dancers on TV and copied their moves. She danced in her room, in the garden, and in the park.\n",
      "\n",
      "One day, her mom said, \"Lily, you need to study. You have to learn letters and numbers and colors. Dancing is fun, but you need to know other things too.\"\n",
      "\n",
      "Lily did not like to study. She thought it was boring and hard. She wanted to dance all the time. She said, \"No, mom, I don't want to study. I want to dance. I am a dancer.\"\n",
      "\n",
      "Her mom was harsh. She said, \"Lily, if you don't study, you can't dance. You have to do your homework first, or I will take away your TV and your music and your shoes. You have to listen to me. I know what is best for you.\"\n",
      "\n",
      "Lily was sad and angry. She did not want to lose her TV and her music and her shoes. She did not want to listen to her mom. She wanted to dance. She ran away from her mom and went to the park. She danced on the grass and felt free and happy.\n",
      "\n",
      "But then, a big dog came. The dog was mean and hungry. The dog saw Lily and wanted to bite her. The dog ran to Lily and jumped on her. Lily screamed and tried to run away, but the dog was faster and stronger. The dog bit Lily's leg and made her bleed. Lily cried and cried. She wished her mom was there to help her. She wished she had studied. She wished she was not a dancer.\n"
     ]
    }
   ],
   "source": [
    "incoherent_stories = np.where(np.array(all_scores) == 2)[0]\n",
    "for index in incoherent_stories:\n",
    "    print('\\n ew story:')\n",
    "    print(tiny_train['text'][index])"
   ]
  },
  {
   "cell_type": "code",
   "execution_count": 82,
   "metadata": {},
   "outputs": [],
   "source": [
    "coherent_stories = np.where(np.array(all_scores) == 5)[0]"
   ]
  },
  {
   "cell_type": "code",
   "execution_count": null,
   "metadata": {},
   "outputs": [],
   "source": [
    "text1= tiny_train['text'][incoherent_stories[0]]\n",
    "text2 = tiny_train['text'][coherent_stories[0]]\n",
    "\n",
    "text1_tensor = preprocessor([text1])\n",
    "text2_tensor = preprocessor([text2])\n",
    "\n",
    "text1_score = model.get_main_score(text1_tensor[\"tokenized_texts\"]).item()\n",
    "text2_score = model.get_main_score(text2_tensor[\"tokenized_texts\"]).item()\n",
    "\n",
    "print(text1_score, text2_score)"
   ]
  },
  {
   "cell_type": "markdown",
   "metadata": {},
   "source": [
    "#### Divide stories into parts - LLM"
   ]
  },
  {
   "cell_type": "code",
   "execution_count": 119,
   "metadata": {},
   "outputs": [],
   "source": [
    "def divide_story_into_parts(story):\n",
    "\n",
    "    client = OpenAI()\n",
    "\n",
    "    response = client.chat.completions.create(\n",
    "      model=\"gpt-4o-mini\", #lets use mini to optimize cost\n",
    "      messages=[\n",
    "        {\n",
    "          \"role\": \"system\",\n",
    "          \"content\": \"\"\"Your job is to divide stories intro three parts:\n",
    "                      - Introduction: Describe the beginning, including setting or main characters.\n",
    "                      - Development: Summarize the main events and conflicts.\n",
    "                      - Conclusion: Provide the ending or resolution.\n",
    "                      Your output should consist of stating the name of that part,\n",
    "                      starting and ending the word for the part with ** (ex: **Introduction**), do not use any other tokens/words next to the word for the part.\n",
    "                      Then copy the content of the story that consists of that part.\n",
    "                      Do not change the wording.\"\"\"\n",
    "        },\n",
    "        {\n",
    "          \"role\": \"user\",\n",
    "          \"content\": story\n",
    "        }\n",
    "      ],\n",
    "    )\n",
    "\n",
    "    return response.choices[0].message"
   ]
  },
  {
   "cell_type": "code",
   "execution_count": null,
   "metadata": {},
   "outputs": [],
   "source": [
    "random.seed = 3\n",
    "\n",
    "batch_size = 1000\n",
    "batch = random.sample(tiny_train['text'], batch_size)"
   ]
  },
  {
   "cell_type": "code",
   "execution_count": 123,
   "metadata": {},
   "outputs": [],
   "source": [
    "divided_stories = []\n",
    "for story in batch:\n",
    "    division = divide_story_into_parts(story)\n",
    "    divided_stories.append(division.content)"
   ]
  },
  {
   "cell_type": "code",
   "execution_count": 131,
   "metadata": {},
   "outputs": [],
   "source": [
    "coherence = []\n",
    "for story in batch:\n",
    "  coherence.append(get_coherence_score(story))"
   ]
  },
  {
   "cell_type": "code",
   "execution_count": null,
   "metadata": {},
   "outputs": [],
   "source": [
    "with open(\"checkpoints/1000_divided.txt\", \"w\") as file:\n",
    "    for story in divided_stories:\n",
    "        file.write(f\"{story}\\n\")"
   ]
  },
  {
   "cell_type": "code",
   "execution_count": 132,
   "metadata": {},
   "outputs": [],
   "source": [
    "save_array = np.array(coherence)\n",
    "\n",
    "np.save(\"checkpoints/1000ratings.npy\", save_array) "
   ]
  },
  {
   "cell_type": "markdown",
   "metadata": {},
   "source": [
    "## Load stories from file"
   ]
  },
  {
   "cell_type": "code",
   "execution_count": 2,
   "metadata": {},
   "outputs": [],
   "source": [
    "def divide_string(text):\n",
    "    #find the indices of each section\n",
    "    introduction_start = text.find(\"**Introduction**\")\n",
    "    development_start = text.find(\"**Development**\")\n",
    "    conclusion_start = text.find(\"**Conclusion**\")\n",
    "\n",
    "    #find where the part starts and create it from there until the next part\n",
    "    introduction_text = text[introduction_start + len(\"**Introduction**\"):development_start].strip()\n",
    "    development_text = text[development_start + len(\"**Development**\"):conclusion_start].strip()\n",
    "    conclusion_text = text[conclusion_start + len(\"**Conclusion**\"):].strip()\n",
    "\n",
    "    return introduction_text, development_text, conclusion_text"
   ]
  },
  {
   "cell_type": "code",
   "execution_count": 3,
   "metadata": {},
   "outputs": [],
   "source": [
    "with open('checkpoints/1000_divided.txt', \"r\") as file:\n",
    "    text = file.read()\n",
    "\n",
    "#split the file into stories using the **Introduction**\n",
    "stories = text.split(\"**Introduction**\")\n",
    "divided_stories = []\n",
    "\n",
    "for story in stories[1:]:  #skip the first element, its empty before the first **Introduction**\n",
    "    story = \"**Introduction**\" + story.strip()\n",
    "    divided_stories.append(story)"
   ]
  },
  {
   "cell_type": "code",
   "execution_count": 4,
   "metadata": {},
   "outputs": [],
   "source": [
    "stories = []\n",
    "\n",
    "for divided in divided_stories:\n",
    "  introduction, development, conclusion = divide_string(divided)\n",
    "  stories.append((introduction,development,conclusion))"
   ]
  },
  {
   "cell_type": "code",
   "execution_count": 5,
   "metadata": {},
   "outputs": [],
   "source": [
    "coherence = np.load(\"checkpoints/1000ratings.npy\")\n",
    "coherence = coherence.tolist()"
   ]
  },
  {
   "cell_type": "markdown",
   "metadata": {},
   "source": [
    "## Testing auto-rater "
   ]
  },
  {
   "cell_type": "code",
   "execution_count": 8,
   "metadata": {},
   "outputs": [],
   "source": [
    "story_info = []\n",
    "for story, rating in zip(stories,coherence):\n",
    "    story_info.append((story, rating))"
   ]
  },
  {
   "cell_type": "code",
   "execution_count": 9,
   "metadata": {},
   "outputs": [],
   "source": [
    "def imposter_input(story, position, imposter):\n",
    "    intro, dev, conc= story\n",
    "\n",
    "    if position == 'intro':\n",
    "        return imposter + dev + conc\n",
    "    elif position == 'development':\n",
    "        return intro + imposter + conc\n",
    "    elif position == 'conclusion':\n",
    "        return intro + dev + imposter\n",
    "    else:\n",
    "        raise ValueError(\"Invalid string value for 'position'.\")"
   ]
  },
  {
   "cell_type": "code",
   "execution_count": null,
   "metadata": {},
   "outputs": [],
   "source": [
    "def tamper_stories(stories, positions, nr_corruptions):\n",
    "    indices_to_corrupt = random.sample(range(len(stories)), nr_corruptions)\n",
    "    \n",
    "    #obtain indices to tamper with\n",
    "    shuffled_indices = indices_to_corrupt[:]\n",
    "    random.shuffle(shuffled_indices)\n",
    "\n",
    "    #if any two consecutive indices are the same, shuffle again\n",
    "    while any(i == j for i, j in zip(indices_to_corrupt, shuffled_indices)):\n",
    "        random.shuffle(shuffled_indices)\n",
    "\n",
    "    corrupted_stories = []\n",
    "    tamper_log = {}\n",
    "    possible_positions = ['intro', 'development', 'conclusion']\n",
    "\n",
    "    for original, imposter in zip(indices_to_corrupt, shuffled_indices):\n",
    "        position = random.choice(positions)  #randomly choose which part to corrupt\n",
    "        imposter_text = stories[imposter][0][possible_positions.index(position)]  #get the imposter part\n",
    "        corrupted_stories.append(imposter_input(stories[original][0], position, imposter_text))\n",
    "        og_rate = stories[original][1]\n",
    "        imp_rate = stories[imposter][1]\n",
    "\n",
    "        tamper_log[original] = {\n",
    "        \"tampered_by\": imposter,\n",
    "        \"position\": position,\n",
    "        \"origina_rating\": og_rate,\n",
    "        \"imposter_rating\": imp_rate\n",
    "        }   \n",
    "\n",
    "    return corrupted_stories, tamper_log"
   ]
  },
  {
   "cell_type": "code",
   "execution_count": 10,
   "metadata": {},
   "outputs": [],
   "source": [
    "def separate_ratings(story_info):\n",
    "    index_0 = []\n",
    "    index_1 = []\n",
    "    index_2 = []\n",
    "    index_3 = []\n",
    "    index_4 = []\n",
    "    index_5 = []\n",
    "    for i,story in enumerate(story_info):\n",
    "        rating = story[1]\n",
    "        if rating == '0':\n",
    "            index_0.append(i)\n",
    "        elif rating == '1':\n",
    "            index_1.append(i)   \n",
    "        elif rating == '2':\n",
    "            index_2.append(i)\n",
    "        elif rating == '3':\n",
    "            index_3.append(i)\n",
    "        elif rating == '4':\n",
    "            index_4.append(i)\n",
    "        elif rating == '5':\n",
    "            index_5.append(i)\n",
    "    return (index_0,index_1,index_2,index_3,index_4,index_5)\n",
    "\n",
    "idx = separate_ratings(story_info)"
   ]
  },
  {
   "cell_type": "code",
   "execution_count": null,
   "metadata": {},
   "outputs": [],
   "source": [
    "def tamper_storiesV2(stories_info, idx, positions,nr_corruptions):\n",
    "    random.seed(10)\n",
    "    possible_positions = ['intro', 'development', 'conclusion']\n",
    "  \n",
    "    indices_to_corrupt = random.sample(range(len(stories_info)), nr_corruptions)\n",
    "    shuffled_indices = indices_to_corrupt[:]\n",
    "    random.shuffle(shuffled_indices)\n",
    "    selected_stories = [stories_info[i] for i in shuffled_indices]\n",
    "    \n",
    "    corrupted_stories = []\n",
    "    tamper_log = {}\n",
    "    for i, story_info in enumerate(selected_stories):\n",
    "        story = story_info[0]\n",
    "        rating = int(story_info[1])\n",
    "        if rating == 2:\n",
    "            possible_idx_flatten = idx[2] #if rating is 2 just swithc w/ another 2\n",
    "        else:\n",
    "            possible_idx = idx[2:rating] #assuming lowest rating is 2\n",
    "            possible_idx_flatten = [idx \n",
    "                                for item in possible_idx \n",
    "                                for idx in item]\n",
    "        \n",
    "        imposter_idx = random.choice(possible_idx_flatten)\n",
    "        position = random.choice(positions)\n",
    "        imposter_text = stories_info[imposter_idx][0][possible_positions.index(position)]\n",
    "        imposter_rating = stories_info[imposter_idx][1]\n",
    "        corrupted_story = imposter_input(story, position, imposter_text)\n",
    "        corrupted_stories.append(corrupted_story)\n",
    "\n",
    "        tamper_log[shuffled_indices[i]] = {\n",
    "        \"tampered_by\": imposter_idx,\n",
    "        \"position\": position,\n",
    "        \"origina_rating\": rating,\n",
    "        \"imposter_rating\": imposter_rating\n",
    "        }   \n",
    "    return corrupted_stories,tamper_log"
   ]
  },
  {
   "cell_type": "code",
   "execution_count": 221,
   "metadata": {},
   "outputs": [],
   "source": [
    "corrupted_stories, log = tamper_stories(story_info, positions=['conclusion'], nr_corruptions=500)"
   ]
  },
  {
   "cell_type": "code",
   "execution_count": 13,
   "metadata": {},
   "outputs": [],
   "source": [
    "corrupted_stories, log = tamper_storiesV2(story_info, idx, positions=['conclusion'], nr_corruptions=500)"
   ]
  },
  {
   "cell_type": "markdown",
   "metadata": {},
   "source": [
    "#### Re-rate inputed stories"
   ]
  },
  {
   "cell_type": "code",
   "execution_count": 16,
   "metadata": {},
   "outputs": [],
   "source": [
    "new_coherence = []\n",
    "for story in corrupted_stories:\n",
    "  new_coherence.append(get_coherence_score(story))"
   ]
  },
  {
   "cell_type": "code",
   "execution_count": 19,
   "metadata": {},
   "outputs": [],
   "source": [
    "new_coherence_array = np.array(new_coherence)\n",
    "\n",
    "np.save(\"checkpoints/10000ratings_retate.npy\", new_coherence_array) "
   ]
  },
  {
   "cell_type": "markdown",
   "metadata": {},
   "source": [
    "#### See changes in ratings"
   ]
  },
  {
   "cell_type": "code",
   "execution_count": null,
   "metadata": {},
   "outputs": [],
   "source": [
    "# Extract old and new ratings\n",
    "affected_indices = list(log.keys())\n",
    "old_ratings = [log[story][\"origina_rating\"] for story in affected_indices]\n",
    "imposter_rating = [log[story][\"imposter_rating\"] for story in affected_indices]\n",
    "new_ratings = new_coherence"
   ]
  },
  {
   "cell_type": "code",
   "execution_count": null,
   "metadata": {},
   "outputs": [
    {
     "data": {
      "image/png": "[encoded data removed]",
      "text/plain": [
       "<Figure size 1000x500 with 1 Axes>"
      ]
     },
     "metadata": {},
     "output_type": "display_data"
    }
   ],
   "source": [
    "from collections import Counter\n",
    "# Count frequency of each rating transition (e.g., \"3 → 5\")\n",
    "transitions = [f\"{old} - {new}\" for old, new in zip(old_ratings, new_ratings)]\n",
    "transition_counts = Counter(transitions)\n",
    "\n",
    "# Sort transitions by frequency\n",
    "sorted_transitions = sorted(transition_counts.items(), key=lambda x: x[1], reverse=True)\n",
    "\n",
    "# Prepare data for plotting\n",
    "labels, values = zip(*sorted_transitions)\n",
    "\n",
    "# Plot\n",
    "plt.figure(figsize=(10, 5))\n",
    "plt.barh(labels, values, color=\"skyblue\")\n",
    "plt.xlabel(\"Number of Stories\")\n",
    "plt.ylabel(\"Rating Transition\")\n",
    "plt.title(\"Most Common Rating Transitions\")\n",
    "plt.gca().invert_yaxis()  # Highest frequency on top\n",
    "plt.show()"
   ]
  },
  {
   "cell_type": "code",
   "execution_count": 30,
   "metadata": {},
   "outputs": [
    {
     "data": {
      "text/plain": [
       "[('4 - 2', 213),\n",
       " ('4 - 3', 93),\n",
       " ('5 - 2', 57),\n",
       " ('5 - 3', 49),\n",
       " ('4 - 1', 33),\n",
       " ('5 - 4', 14),\n",
       " ('4 - 4', 14),\n",
       " ('3 - 3', 11),\n",
       " ('5 - 1', 5),\n",
       " ('3 - 2', 5),\n",
       " ('2 - 1', 1),\n",
       " ('2 - 2', 1),\n",
       " ('3 - 4', 1),\n",
       " ('2 - 3', 1),\n",
       " ('4 - 5', 1),\n",
       " ('3 - 1', 1)]"
      ]
     },
     "execution_count": 30,
     "metadata": {},
     "output_type": "execute_result"
    }
   ],
   "source": [
    "sorted_transitions"
   ]
  },
  {
   "cell_type": "markdown",
   "metadata": {},
   "source": [
    "#### old "
   ]
  },
  {
   "cell_type": "code",
   "execution_count": 345,
   "metadata": {},
   "outputs": [
    {
     "name": "stdout",
     "output_type": "stream",
     "text": [
      "495\n"
     ]
    }
   ],
   "source": [
    "for index, transition in enumerate(transitions):\n",
    "    if transition == '4 - 5':\n",
    "        print(index)  "
   ]
  },
  {
   "cell_type": "code",
   "execution_count": null,
   "metadata": {},
   "outputs": [
    {
     "data": {
      "text/plain": [
       "('Once upon a time, there was a big, strong bear named Ben. He lived in a forest with his animal friends. One day, Ben told his friends that he wanted to take a trip to the river. His friends warned him that it was dangerous to go alone, but Ben thought he was strong enough to handle it.',\n",
       " 'As Ben walked to the river, he saw a little bird who asked if he could come along. Ben said yes, but the bird warned him about a mean wolf who lived near the river. Ben thought he could handle the wolf, so he continued on his trip. When Ben arrived at the river, he saw the wolf waiting for him. The wolf growled and tried to attack Ben. But Ben was too strong for the wolf and scared him away.',\n",
       " 'Ben realized that his friends were right, and he should have listened to their warning. He thanked the little bird for his help and went back home safely.')"
      ]
     },
     "execution_count": 35,
     "metadata": {},
     "output_type": "execute_result"
    }
   ],
   "source": [
    "story_info[affected_ indices[495]][0]"
   ]
  },
  {
   "cell_type": "code",
   "execution_count": 348,
   "metadata": {},
   "outputs": [
    {
     "data": {
      "text/plain": [
       "'Once upon a time, there was a little girl named Lily. She loved playing with her friends in the park every day. One day, Lily\\'s friend Emma told her a secret. Emma said, \"I have a secret, but I can\\'t tell you.\"Lily felt sad and confused. She asked Emma why she couldn\\'t tell her the secret. Emma said, \"It\\'s a surprise for your birthday. I don\\'t want to ruin it.\"The end.'"
      ]
     },
     "execution_count": 348,
     "metadata": {},
     "output_type": "execute_result"
    }
   ],
   "source": [
    "corrupted_stories[495]"
   ]
  },
  {
   "cell_type": "markdown",
   "metadata": {},
   "source": [
    "The conclusion added is just \"The end\" that's why it got better."
   ]
  },
  {
   "cell_type": "markdown",
   "metadata": {},
   "source": [
    "#### new things"
   ]
  },
  {
   "cell_type": "markdown",
   "metadata": {},
   "source": [
    "## LMvLM"
   ]
  },
  {
   "cell_type": "code",
   "execution_count": 41,
   "metadata": {},
   "outputs": [],
   "source": [
    "import pickle\n",
    "\n",
    "with open('datasets/LMvLM_Annotations.pkl', 'rb') as f:\n",
    "    annotations = pickle.load(f)\n",
    "\n",
    "with open('datasets/LMvLM.pkl', 'rb') as f:\n",
    "    text = pickle.load(f)"
   ]
  },
  {
   "cell_type": "code",
   "execution_count": 144,
   "metadata": {},
   "outputs": [],
   "source": [
    "random.seed(10)\n",
    "subset_idx = random.sample(range(len(text)), 500)\n",
    "positives = [text[i]['pos'] for i in subset_idx]\n",
    "negatives = [text[i]['neg'] for i in subset_idx]\n",
    "LMvLM = positives+negatives\n",
    "shuffle_idx = random.sample(range(len(LMvLM)),len(LMvLM))\n",
    "LMvLM_shuffle = [LMvLM[i] for i in shuffle_idx]"
   ]
  },
  {
   "cell_type": "code",
   "execution_count": 166,
   "metadata": {},
   "outputs": [],
   "source": [
    "ant = [annotations[0][i] for i in subset_idx]"
   ]
  },
  {
   "cell_type": "code",
   "execution_count": 150,
   "metadata": {},
   "outputs": [],
   "source": [
    "LM_coherence = []\n",
    "for story in LMvLM_shuffle:\n",
    "  LM_coherence.append(get_coherence_score(story))"
   ]
  },
  {
   "cell_type": "code",
   "execution_count": 160,
   "metadata": {},
   "outputs": [],
   "source": [
    "LM_coherence_og = [LM_coherence[i] for i in shuffle_idx]"
   ]
  },
  {
   "cell_type": "code",
   "execution_count": null,
   "metadata": {},
   "outputs": [],
   "source": [
    "same = 0\n",
    "same_equal=0\n",
    "for idx in range(len(positives)):\n",
    "    positive_rating = LM_coherence_og[idx]\n",
    "    negative_rating = LM_coherence_og[idx+500]\n",
    "    winner = ant[idx]\n",
    "\n",
    "    if positive_rating>=negative_rating:\n",
    "        same_equal+=1\n",
    "    if positive_rating>negative_rating:\n",
    "        same+=1"
   ]
  },
  {
   "cell_type": "code",
   "execution_count": 178,
   "metadata": {},
   "outputs": [
    {
     "name": "stdout",
     "output_type": "stream",
     "text": [
      "Number of correct ratings considering >= rating as correct: 337\n",
      "Number of correct ratings considering > rating as correct: 166\n"
     ]
    }
   ],
   "source": [
    "print(f'Number of correct ratings considering >= rating as correct: {same_equal}')\n",
    "print(f'Number of correct ratings considering > rating as correct: {same}')"
   ]
  }
 ],
 "metadata": {
  "kernelspec": {
   "display_name": "ccu",
   "language": "python",
   "name": "python3"
  },
  "language_info": {
   "codemirror_mode": {
    "name": "ipython",
    "version": 3
   },
   "file_extension": ".py",
   "mimetype": "text/x-python",
   "name": "python",
   "nbconvert_exporter": "python",
   "pygments_lexer": "ipython3",
   "version": "3.9.21"
  }
 },
 "nbformat": 4,
 "nbformat_minor": 2
}
