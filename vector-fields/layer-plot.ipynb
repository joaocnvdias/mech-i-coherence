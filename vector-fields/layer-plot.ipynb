{
 "cells": [
  {
   "cell_type": "code",
   "execution_count": 38,
   "id": "4ac91841",
   "metadata": {},
   "outputs": [],
   "source": [
    "import torch\n",
    "import json\n",
    "from transformers import AutoTokenizer, AutoModelForCausalLM\n",
    "import matplotlib.pyplot as plt\n",
    "import numpy as np"
   ]
  },
  {
   "cell_type": "code",
   "execution_count": 2,
   "id": "574ab28c",
   "metadata": {},
   "outputs": [],
   "source": [
    "def choose_device(device):\n",
    "    if device==0:\n",
    "        return 'cuda:0'\n",
    "    elif device==1:\n",
    "        return 'cuda:1'\n",
    "    elif device ==-1:\n",
    "        return 'cpu'\n",
    "    else:\n",
    "        raise Exception('Return 0 or 1 for GPUs or -1 for CPU')\n",
    "\n",
    "def load_device(cuda_id):\n",
    "    cuda = choose_device(cuda_id)\n",
    "    device = torch.device(cuda if torch.cuda.is_available() else \"cpu\")\n",
    "    return device\n",
    "\n",
    "def load_AutoModel(model_id,cuda_id):\n",
    "    \n",
    "    tokenizer = AutoTokenizer.from_pretrained(model_id, padding_side = \"left\") \n",
    "    tokenizer.pad_token_id = tokenizer.eos_token_id #required in llama because no padding token is defined\n",
    "    model = AutoModelForCausalLM.from_pretrained(model_id, torch_dtype=torch.bfloat16)\n",
    "    terminators = [\n",
    "        tokenizer.eos_token_id,\n",
    "        tokenizer.convert_tokens_to_ids(\"<|eot_id|>\")\n",
    "    ]\n",
    "    device = load_device(cuda_id)\n",
    "    model = model.to(device)\n",
    "\n",
    "    return tokenizer, model, device, terminators"
   ]
  },
  {
   "cell_type": "code",
   "execution_count": 3,
   "id": "fac7aa3d",
   "metadata": {},
   "outputs": [],
   "source": [
    "def compute_layer_vectors(layer_activation):\n",
    "    return layer_activation[1:]-layer_activation[:-1] #matrix except first_row - matrix except last_row\n",
    "\n",
    "def compute_vectors(hidden_states):\n",
    "    return [compute_layer_vectors(layer) for layer in hidden_states]\n",
    "\n",
    "def compute_angle_layer(layer_vectors):\n",
    "    angles=[]\n",
    "\n",
    "    for i in range(layer_vectors.shape[0]-1): \n",
    "        #grab consecutive vectors\n",
    "        a = layer_vectors[i,:]\n",
    "        b = layer_vectors[i+1,:]\n",
    "        cos_value = torch.dot(a, b) / (torch.norm(a) * torch.norm(b))\n",
    "        cos_value = torch.clamp(cos_value, -1, 1)\n",
    "        angles.append(torch.acos(cos_value)) #angle equation from vec dot product\n",
    "\n",
    "    return torch.tensor(angles, dtype=torch.bfloat16)\n",
    "\n",
    "def compute_angle(vector_transitions_trajectory):\n",
    "    return [compute_angle_layer(layer_vectors) for layer_vectors in vector_transitions_trajectory]\n",
    "\n",
    "def average_layer_angle(layer_dot_product):\n",
    "    return layer_dot_product.nanmean() #ignore NaNs when computing mean\n",
    "\n",
    "def average_angle(dot_product_list):\n",
    "    return torch.stack([average_layer_angle(layer_dot_product) for layer_dot_product in dot_product_list])\n",
    "\n",
    "def sum_layer_energy(average_layer_dot_product):\n",
    "    return average_layer_dot_product.sum()\n",
    "\n",
    "def energy_pipeline(layer_hidden_states):\n",
    "    if not isinstance(layer_hidden_states, list):\n",
    "        raise TypeError(\"Expected a list of tensors (one per layer of the model). Don't include the model's embedding layer\")\n",
    "    return sum_layer_energy(average_angle(compute_angle(compute_vectors(layer_hidden_states)))).item()\n",
    "\n",
    "def energy_pipeline_layer(layer_hidden_states):\n",
    "    if not isinstance(layer_hidden_states, list):\n",
    "        raise TypeError(\"Expected a list of tensors (one per layer of the model). Don't include the model's embedding layer\")\n",
    "    return average_angle(compute_angle(compute_vectors(layer_hidden_states)))"
   ]
  },
  {
   "cell_type": "code",
   "execution_count": 4,
   "id": "b8236768",
   "metadata": {},
   "outputs": [],
   "source": [
    "def inference_activations(model, gen_ids):\n",
    "    #pass the full generation through the model \n",
    "    with torch.no_grad():\n",
    "        full_outputs = model(\n",
    "            input_ids=gen_ids,\n",
    "            output_hidden_states=True,\n",
    "            return_dict=True\n",
    "        )\n",
    "    #remove 1st tensor dimension so its 2D\n",
    "    return [layer[0] for layer in full_outputs.hidden_states[1:]] #list with pt tensor of activations in each element\n",
    "\n",
    "def energy_loop_llama(model_inputs, num_generations, generations, model):\n",
    "    tensor_size_prompt = model_inputs['input_ids'].shape[1] #obtain prompt token size\n",
    "    energy_values = []\n",
    "    for i in range(num_generations):\n",
    "        tensor = generations[i,tensor_size_prompt:].unsqueeze(0) #remove prompt tokens from generation\n",
    "        activations = inference_activations(model,tensor)\n",
    "        energy_values.append(energy_pipeline_layer(activations))\n",
    "\n",
    "    return energy_values"
   ]
  },
  {
   "cell_type": "code",
   "execution_count": 5,
   "id": "c466bb1e",
   "metadata": {},
   "outputs": [
    {
     "name": "stderr",
     "output_type": "stream",
     "text": [
      "Loading checkpoint shards: 100%|██████████| 4/4 [00:00<00:00, 133.53it/s]\n"
     ]
    }
   ],
   "source": [
    "model_id = \"meta-llama/Meta-Llama-3.1-8B-Instruct\"\n",
    "tokenizer, model, device, terminators = load_AutoModel(model_id, cuda_id=0)"
   ]
  },
  {
   "cell_type": "code",
   "execution_count": 7,
   "id": "1cfa0a3c",
   "metadata": {},
   "outputs": [],
   "source": [
    "def load_prompts(prompt_type, prompt_topic):\n",
    "    #load prompt from .txt\n",
    "    if prompt_type == 'completion':\n",
    "        with open('prompts-comp/'+prompt_topic+'.txt') as file:\n",
    "            prompt = file.read()\n",
    "    elif prompt_type == 'generation':\n",
    "        with open('prompts-gen/'+prompt_topic+'.txt') as file:\n",
    "            prompt = file.read()\n",
    "        prompt = json.loads(prompt, strict=False)\n",
    "    return prompt"
   ]
  },
  {
   "cell_type": "code",
   "execution_count": 8,
   "id": "be77407b",
   "metadata": {},
   "outputs": [],
   "source": [
    "def prepare_llama_prompt(tokenizer, prompt, device):\n",
    "    text = tokenizer.apply_chat_template(prompt, add_generation_prompt=True, tokenize=False) \n",
    "    inputs = tokenizer(text, padding=\"longest\", return_tensors=\"pt\") #transform into pt tensors\n",
    "    inputs = {key: val.to(device) for key, val in inputs.items()} #move inputs into cuda\n",
    "    return inputs"
   ]
  },
  {
   "cell_type": "code",
   "execution_count": null,
   "id": "7e2c8dba",
   "metadata": {},
   "outputs": [],
   "source": [
    "prompt_type = 'generation' #or 'completion'\n",
    "prompt_topic='viktor'\n",
    "prompt = load_prompts(prompt_type, prompt_topic)\n",
    "viktor = torch.load(\"checkpoints/ids_viktor.pt\")\n",
    "generations = viktor\n",
    "nr_gens = viktor.shape[0]\n",
    "model_inputs = prepare_llama_prompt(tokenizer, prompt, device)\n",
    "tensor_size_prompt = model_inputs['input_ids'].shape[1] #obtain prompt token size\n",
    "energy_values = []\n",
    "for i in range(nr_gens):\n",
    "    tensor = generations[i,tensor_size_prompt:].unsqueeze(0) #remove prompt tokens from generation\n",
    "    activations = inference_activations(model,tensor)\n",
    "    energy_values.append(energy_pipeline_layer(activations))"
   ]
  },
  {
   "cell_type": "code",
   "execution_count": null,
   "id": "02a9d5a4",
   "metadata": {},
   "outputs": [],
   "source": [
    "prompt_type = 'generation' #or 'completion'\n",
    "prompt_topic='prague'\n",
    "prompt = load_prompts(prompt_type, prompt_topic)\n",
    "generations = torch.load(\"checkpoints/ids_prague.pt\")\n",
    "nr_gens = generations.shape[0]\n",
    "model_inputs = prepare_llama_prompt(tokenizer, prompt, device)\n",
    "tensor_size_prompt = model_inputs['input_ids'].shape[1] #obtain prompt token size\n",
    "prague_values = []\n",
    "for i in range(nr_gens):\n",
    "    tensor = generations[i,tensor_size_prompt:].unsqueeze(0) #remove prompt tokens from generation\n",
    "    activations = inference_activations(model,tensor)\n",
    "    prague_values.append(energy_pipeline_layer(activations))"
   ]
  },
  {
   "cell_type": "code",
   "execution_count": null,
   "id": "ef4dc4bc",
   "metadata": {},
   "outputs": [],
   "source": [
    "prompt_type = 'generation' #or 'completion'\n",
    "prompt_topic='sciencefic'\n",
    "prompt = load_prompts(prompt_type, prompt_topic)\n",
    "generations = torch.load(\"checkpoints/ids_sciencefic.pt\")\n",
    "nr_gens = generations.shape[0]\n",
    "model_inputs = prepare_llama_prompt(tokenizer, prompt, device)\n",
    "tensor_size_prompt = model_inputs['input_ids'].shape[1] #obtain prompt token size\n",
    "science_values = []\n",
    "for i in range(nr_gens):\n",
    "    tensor = generations[i,tensor_size_prompt:].unsqueeze(0) #remove prompt tokens from generation\n",
    "    activations = inference_activations(model,tensor)\n",
    "    science_values.append(energy_pipeline_layer(activations))"
   ]
  },
  {
   "cell_type": "code",
   "execution_count": null,
   "id": "43f1c69b",
   "metadata": {},
   "outputs": [],
   "source": [
    "import matplotlib.pyplot as plt\n",
    "import numpy as np\n",
    "\n",
    "all_lists = [\n",
    "    (\"Viktor\", energy_values, \"blue\"),\n",
    "    (\"Prague\", prague_values, \"green\"),\n",
    "    (\"Science\", science_values, \"red\")\n",
    "]\n",
    "\n",
    "plt.figure(figsize=(12, 6))\n",
    "\n",
    "for name, energy_list, color in all_lists:\n",
    "    # Stack tensors to 2D array and convert to float32\n",
    "    data = torch.stack([t.float() for t in energy_list]).numpy()\n",
    "    \n",
    "    # Compute mean and std across layers (or generations) for each neuron index\n",
    "    mean_vals = np.mean(data, axis=0)\n",
    "    std_vals = np.std(data, axis=0)\n",
    "    \n",
    "    x = np.arange(data.shape[1])\n",
    "    \n",
    "    # Plot mean line with shaded variance\n",
    "    plt.plot(x, mean_vals, label=name, color=color)\n",
    "    plt.fill_between(x, mean_vals - std_vals, mean_vals + std_vals, color=color, alpha=0.2)\n",
    "\n",
    "plt.xlabel('Layer index')\n",
    "plt.ylabel('Mean energy value')\n",
    "plt.title('Energy values per layer comparison')\n",
    "plt.legend()\n",
    "plt.show()"
   ]
  },
  {
   "cell_type": "code",
   "execution_count": null,
   "id": "55146f03",
   "metadata": {},
   "outputs": [],
   "source": [
    "import matplotlib.pyplot as plt\n",
    "import numpy as np\n",
    "\n",
    "all_lists = [\n",
    "    (\"Viktor\", energy_values, \"blue\"),\n",
    "    (\"Prague\", prague_values, \"green\"),\n",
    "    (\"Science\", science_values, \"red\")\n",
    "]\n",
    "\n",
    "plt.figure(figsize=(12, 6))\n",
    "\n",
    "cap_width = 0.2  # width of horizontal caps for min/max\n",
    "\n",
    "for name, energy_list, color in all_lists:\n",
    "    data = torch.stack([t.float() for t in energy_list]).numpy()\n",
    "    \n",
    "    min_vals = np.min(data, axis=0)\n",
    "    max_vals = np.max(data, axis=0)\n",
    "    mean_vals = np.mean(data, axis=0)\n",
    "    \n",
    "    x = np.arange(data.shape[1])\n",
    "    \n",
    "    # plot vertical line for min-max\n",
    "    for xi, vmin, vmax in zip(x, min_vals, max_vals):\n",
    "        plt.plot([xi, xi], [vmin, vmax], color=color, linewidth=2)\n",
    "        plt.plot([xi - cap_width, xi + cap_width], [vmin, vmin], color=color, linewidth=2)\n",
    "        plt.plot([xi - cap_width, xi + cap_width], [vmax, vmax], color=color, linewidth=2)\n",
    "    \n",
    "    # optionally plot mean line\n",
    "    plt.plot(x, mean_vals, color=color, linestyle='--', alpha=0.7)\n",
    "\n",
    "plt.xlabel('Layer index')\n",
    "plt.ylabel('Mean energy value')\n",
    "plt.title('Energy values per layer comparison')\n",
    "plt.show()"
   ]
  },
  {
   "cell_type": "code",
   "execution_count": null,
   "id": "fe94359f",
   "metadata": {},
   "outputs": [],
   "source": [
    "plt.figure(figsize=(12, 6))\n",
    "\n",
    "for name, energy_list in all_energy_values.items():\n",
    "    # Stack tensors to 2D array and convert to float32\n",
    "    data = torch.stack([t.float() for t in energy_list]).numpy()\n",
    "    \n",
    "    # Compute mean and std across generations\n",
    "    mean_vals = np.mean(data, axis=0)\n",
    "    std_vals = np.std(data, axis=0)\n",
    "    \n",
    "    x = np.arange(data.shape[1])\n",
    "    \n",
    "    # Plot mean line with shaded variance\n",
    "    plt.plot(x, mean_vals, label=name)\n",
    "    plt.fill_between(x, mean_vals - std_vals, mean_vals + std_vals, alpha=0.2)\n",
    "\n",
    "plt.xlabel('Neuron index')\n",
    "plt.ylabel('Energy value')\n",
    "plt.title('Energy activations for multiple generations')\n",
    "plt.legend()\n",
    "plt.show()\n"
   ]
  },
  {
   "cell_type": "markdown",
   "id": "37909642",
   "metadata": {},
   "source": [
    "## Random vs Normal"
   ]
  },
  {
   "cell_type": "code",
   "execution_count": 9,
   "id": "2457ce3c",
   "metadata": {},
   "outputs": [],
   "source": [
    "prompt_type = 'generation' #or 'completion'\n",
    "prompt_topic='sciencefic'\n",
    "prompt = load_prompts(prompt_type, prompt_topic)\n",
    "model_inputs = prepare_llama_prompt(tokenizer, prompt, device)\n",
    "tensor_size_prompt = model_inputs['input_ids'].shape[1] #obtain prompt token size"
   ]
  },
  {
   "cell_type": "code",
   "execution_count": 10,
   "id": "ef97ee02",
   "metadata": {},
   "outputs": [],
   "source": [
    "def llama_gen(model, inputs, tokenizer, terminators, num_generations):\n",
    "    generations = model.generate(\n",
    "        **inputs,\n",
    "        max_new_tokens=400,\n",
    "        do_sample=True,\n",
    "        temperature=0.7,\n",
    "        top_p=0.9,\n",
    "        pad_token_id=tokenizer.eos_token_id,\n",
    "        eos_token_id=terminators,\n",
    "        num_return_sequences=num_generations  \n",
    "    )\n",
    "\n",
    "    return generations"
   ]
  },
  {
   "cell_type": "code",
   "execution_count": 11,
   "id": "162d2ef7",
   "metadata": {},
   "outputs": [],
   "source": [
    "gen_ids = llama_gen(model, model_inputs, tokenizer, terminators, num_generations=100)"
   ]
  },
  {
   "cell_type": "code",
   "execution_count": 12,
   "id": "b8d92cb2",
   "metadata": {},
   "outputs": [],
   "source": [
    "prompt_text = tokenizer.decode(model_inputs['input_ids'][0], skip_special_tokens=True)\n",
    "decoded_gens = tokenizer.batch_decode(gen_ids, skip_special_tokens=True)\n",
    "decoded_stories = [decoded_generation[len(prompt_text):] for decoded_generation in decoded_gens] "
   ]
  },
  {
   "cell_type": "code",
   "execution_count": 28,
   "id": "560b5ca2",
   "metadata": {},
   "outputs": [],
   "source": [
    "import random, re\n",
    "rng = random.Random(42)\n",
    "\n",
    "def split_sentences(text: str):\n",
    "    \"\"\"\n",
    "    Simple, fast splitter on . ! ?\n",
    "    For higher quality, swap to blingfire/spacy/syntok later.\n",
    "    \"\"\"\n",
    "    text = text.strip()\n",
    "    if not text:\n",
    "        return []\n",
    "    sents = re.split(r'(?<=[.!?])\\s+', text)\n",
    "    return [s for s in sents if s]\n",
    "\n",
    "def shuffle_sentences(text: str, rng: random.Random = None) -> str:\n",
    "    sents = split_sentences(text)\n",
    "    if len(sents) <= 1:\n",
    "        return text\n",
    "    shuffled = sents[:]\n",
    "    (rng or random).shuffle(shuffled)\n",
    "    # Ensure it's actually different (rare but possible with small lists)\n",
    "    if shuffled == sents:\n",
    "        shuffled = sents[1:] + sents[:1]\n",
    "    return \" \".join(shuffled)\n",
    "\n",
    "shuffled_stories = [shuffle_sentences(s, rng) for s in decoded_stories]\n",
    "\n",
    "# 2) Fix padding config (LLaMA often lacks a pad token)\n",
    "if tokenizer.pad_token_id is None:\n",
    "    tokenizer.pad_token = tokenizer.eos_token\n",
    "tokenizer.padding_side = \"right\"\n",
    "\n",
    "# 3) Choose target shape from your original generations\n",
    "nr_gens = len(shuffled_stories)\n",
    "max_gen_size = int(getattr(gen_ids, \"shape\", [nr_gens, 0])[1])  # fallback if needed\n",
    "\n",
    "# 4) Re-encode to tensors with fixed length [nr_gens, max_gen_size]\n",
    "enc = tokenizer(\n",
    "    shuffled_stories,\n",
    "    add_special_tokens=False,         # keep it pure story content; set True if you want BOS/EOS\n",
    "    padding=\"max_length\",\n",
    "    truncation=True,\n",
    "    max_length=max_gen_size,\n",
    "    return_tensors=\"pt\",\n",
    ")\n",
    "\n",
    "shuffled_input_ids: torch.Tensor = enc[\"input_ids\"]         # torch.Size([nr_gens, max_gen_size])\n",
    "shuffled_attention_mask: torch.Tensor = enc[\"attention_mask\"]\n",
    "\n",
    "assert shuffled_input_ids.shape == (nr_gens, max_gen_size), shuffled_input_ids.shape"
   ]
  },
  {
   "cell_type": "code",
   "execution_count": 33,
   "id": "a003e9da",
   "metadata": {},
   "outputs": [
    {
     "data": {
      "text/plain": [
       "torch.Size([100, 534])"
      ]
     },
     "execution_count": 33,
     "metadata": {},
     "output_type": "execute_result"
    }
   ],
   "source": [
    "shuffled_input_ids      = shuffled_input_ids.to(device)        # dtype should be Long\n",
    "shuffled_input_ids.shape"
   ]
  },
  {
   "cell_type": "code",
   "execution_count": 15,
   "id": "2e93b5d2",
   "metadata": {},
   "outputs": [],
   "source": [
    "good_energies = []\n",
    "for i in range(gen_ids.shape[0]):\n",
    "    tensor = gen_ids[i,tensor_size_prompt:].unsqueeze(0) #remove prompt tokens from generation\n",
    "    activations = inference_activations(model,tensor)\n",
    "    good_energies.append(energy_pipeline_layer(activations))"
   ]
  },
  {
   "cell_type": "code",
   "execution_count": 34,
   "id": "b2c07f72",
   "metadata": {},
   "outputs": [],
   "source": [
    "bad_energies = []\n",
    "for i in range(shuffled_input_ids.shape[0]):\n",
    "    tensor = shuffled_input_ids[i,tensor_size_prompt:].unsqueeze(0) #remove prompt tokens from generation\n",
    "    activations = inference_activations(model,tensor)\n",
    "    bad_energies.append(energy_pipeline_layer(activations))"
   ]
  },
  {
   "cell_type": "code",
   "execution_count": 39,
   "id": "631fe0b1",
   "metadata": {},
   "outputs": [
    {
     "data": {
      "image/png": "[encoded data removed]",
      "text/plain": [
       "<Figure size 1200x600 with 1 Axes>"
      ]
     },
     "metadata": {},
     "output_type": "display_data"
    }
   ],
   "source": [
    "plt.figure(figsize=(12, 6))\n",
    "\n",
    "all_lists = [\n",
    "    (\"Good\", good_energies, \"blue\"),\n",
    "    (\"Bad\", bad_energies, \"red\"),\n",
    "]\n",
    "\n",
    "for name, energy_list, color in all_lists:\n",
    "    # Stack tensors to 2D array and convert to float32\n",
    "    data = torch.stack([t.float() for t in energy_list]).numpy()\n",
    "    \n",
    "    # Compute mean and std across layers (or generations) for each neuron index\n",
    "    mean_vals = np.mean(data, axis=0)\n",
    "    std_vals = np.std(data, axis=0)\n",
    "    \n",
    "    x = np.arange(data.shape[1])\n",
    "    \n",
    "    # Plot mean line with shaded variance\n",
    "    plt.plot(x, mean_vals, label=name, color=color)\n",
    "    plt.fill_between(x, mean_vals - std_vals, mean_vals + std_vals, color=color, alpha=0.2)\n",
    "\n",
    "plt.xlabel('Layer index')\n",
    "plt.ylabel('Mean energy value')\n",
    "plt.title('Energy values per layer comparison')\n",
    "plt.legend()\n",
    "plt.show()"
   ]
  }
 ],
 "metadata": {
  "kernelspec": {
   "display_name": "vf",
   "language": "python",
   "name": "python3"
  },
  "language_info": {
   "codemirror_mode": {
    "name": "ipython",
    "version": 3
   },
   "file_extension": ".py",
   "mimetype": "text/x-python",
   "name": "python",
   "nbconvert_exporter": "python",
   "pygments_lexer": "ipython3",
   "version": "3.11.13"
  }
 },
 "nbformat": 4,
 "nbformat_minor": 5
}
